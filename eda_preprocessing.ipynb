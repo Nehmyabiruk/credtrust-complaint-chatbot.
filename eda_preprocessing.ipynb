{
  "cells": [
    {
      "cell_type": "markdown",
      "metadata": {},
      "source": [
        "# Task 1: Exploratory Data Analysis and Preprocessing\n",
        "\n",
        "This notebook performs EDA and preprocessing on the CFPB complaint dataset for the CredTrust Financial RAG chatbot."
      ]
    },
    {
      "cell_type": "code",
      "execution_count": null,
      "metadata": {},
      "outputs": [],
      "source": [
        "import pandas as pd\n",
        "import matplotlib.pyplot as plt\n",
        "import seaborn as sns\n",
        "import re\n",
        "\n",
        "# Load dataset\n",
        "df = pd.read_csv('path_to_cfpb_complaints.csv')  # Replace with actual path\n",
        "\n",
        "# EDA: Complaint distribution by product\n",
        "product_counts = df['Product'].value_counts()\n",
        "plt.figure(figsize=(10, 6))\n",
        "sns.barplot(x=product_counts.values, y=product_counts.index)\n",
        "plt.title('Complaint Distribution by Product')\n",
        "plt.xlabel('Number of Complaints')\n",
        "plt.ylabel('Product')\n",
        "plt.show()\n",
        "\n",
        "# Narrative length analysis\n",
        "df['narrative_length'] = df['Consumer complaint narrative'].apply(lambda x: len(str(x).split()) if pd.notna(x) else 0)\n",
        "plt.figure(figsize=(10, 6))\n",
        "sns.histplot(df['narrative_length'], bins=50)\n",
        "plt.title('Distribution of Narrative Word Counts')\n",
        "plt.xlabel('Word Count')\n",
        "plt.ylabel('Frequency')\n",
        "plt.show()\n",
        "\n",
        "# Missing narratives\n",
        "missing_narratives = df['Consumer complaint narrative'].isna().sum()\n",
        "print(f'Missing narratives: {missing_narratives} ({missing_narratives / len(df) * 100:.2f}%)')\n",
        "\n",
        "# Filter for specified products\n",
        "products = ['Credit Card', 'Personal Loan', 'Buy Now Pay Later', 'Savings Account', 'Money Transfer']\n",
        "df_filtered = df[df['Product'].isin(products)].copy()\n",
        "\n",
        "# Remove empty narratives\n",
        "df_filtered = df_filtered[df_filtered['Consumer complaint narrative'].notna()]\n",
        "\n",
        "# Clean narratives\n",
        "def clean_text(text):\n",
        "    text = text.lower()\n",
        "    text = re.sub(r'[^a-z0-9\\s]', '', text)\n",
        "    text = re.sub(r'\\bi am writing to file a complaint\\b', '', text)\n",
        "    return text.strip()\n",
        "\n",
        "df_filtered['Consumer complaint narrative'] = df_filtered['Consumer complaint narrative'].apply(clean_text)\n",
        "\n",
        "# Save cleaned dataset\n",
        "df_filtered.to_csv('data/filtered_complaints.csv', index=False)\n",
        "print('Cleaned dataset saved to data/filtered_complaints.csv')"
      ]
    }
  ],
  "metadata": {
    "kernelspec": {
      "display_name": "Python 3",
      "language": "python",
      "name": "python3"
    },
    "language_info": {
      "codemirror_mode": {
        "name": "ipython",
        "version": 3
      },
      "file_extension": ".py",
      "mimetype": "text/x-python",
      "name": "python",
      "nbconvert_exporter": "python",
      "pygments_lexer": "ipython3",
      "version": "3.9.0"
    }
  },
  "nbformat": 4,
  "nbformat_minor": 4
}
